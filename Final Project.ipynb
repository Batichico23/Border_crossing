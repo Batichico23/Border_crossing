{
 "cells": [
  {
   "cell_type": "code",
   "execution_count": 1,
   "metadata": {},
   "outputs": [
    {
     "ename": "ModuleNotFoundError",
     "evalue": "No module named 'Port_class'",
     "output_type": "error",
     "traceback": [
      "\u001b[1;31m---------------------------------------------------------------------------\u001b[0m",
      "\u001b[1;31mModuleNotFoundError\u001b[0m                       Traceback (most recent call last)",
      "\u001b[1;32m<ipython-input-1-c87e8777e95e>\u001b[0m in \u001b[0;36m<module>\u001b[1;34m\u001b[0m\n\u001b[0;32m      5\u001b[0m \u001b[1;32mimport\u001b[0m \u001b[0mstring\u001b[0m\u001b[1;33m\u001b[0m\u001b[1;33m\u001b[0m\u001b[0m\n\u001b[0;32m      6\u001b[0m \u001b[1;32mimport\u001b[0m \u001b[0mrandom\u001b[0m\u001b[1;33m\u001b[0m\u001b[1;33m\u001b[0m\u001b[0m\n\u001b[1;32m----> 7\u001b[1;33m \u001b[1;32mimport\u001b[0m \u001b[0mPort_class\u001b[0m \u001b[1;32mas\u001b[0m \u001b[0mpc\u001b[0m\u001b[1;33m\u001b[0m\u001b[1;33m\u001b[0m\u001b[0m\n\u001b[0m",
      "\u001b[1;31mModuleNotFoundError\u001b[0m: No module named 'Port_class'"
     ]
    }
   ],
   "source": [
    "%matplotlib inline\n",
    "import pandas as pd\n",
    "import numpy as np\n",
    "import matplotlib.pyplot as plt, seaborn as sns\n",
    "import string\n",
    "import random\n",
    "import Port_class as pc\n"
   ]
  },
  {
   "cell_type": "code",
   "execution_count": null,
   "metadata": {},
   "outputs": [],
   "source": [
    "gretings_list = (['\\tHello!\\t\\n', '\\tHi!\\t\\n','\\tHey!\\t\\n', '\\tǃHola!\\t\\n',\n",
    "                  '\\tWelcome!\\t\\n', '\\tBonjour!\\t\\n', '\\tGreetings!\\t\\n'])\n",
    "explanation_list = (['''My name is Ricardo, and I'm here to help\n",
    "                you cross the US-Mexico border faster.\\n''',\n",
    "               '''My name is Ricardo, and I'm here to assist\n",
    "               you in crossing the US-Mexico border as quickly as possible\\n.''',\n",
    "              '''My name is Ricardo, and I'm here to facilitate\n",
    "              you in reaching the border between the United States and\n",
    "              Mexico as quickly as possible.\\n'''])\n",
    "\n",
    "gretings_out_list = (['\\Welcome to California, and have a great time!\\t', \n",
    "                      \"\\It was nice to talk to you!\\t\",\n",
    "                      '\\It was nice to meet you!\\t',\n",
    "                      '\\tWelcome to the Golden State!\\t',\n",
    "                      'California welcomes you!\\t.'])"
   ]
  },
  {
   "cell_type": "code",
   "execution_count": null,
   "metadata": {},
   "outputs": [],
   "source": [
    "def selector (gretings_list, explanation_list):\n",
    "    random.shuffle(gretings_list)\n",
    "    random.shuffle(explanation_list)\n",
    "    random.shuffle(gretings_out_list)\n",
    "    print(gretings_list[0], explanation_list[0])\n",
    "\n",
    "selector(gretings_list, explanation_list)"
   ]
  },
  {
   "cell_type": "code",
   "execution_count": null,
   "metadata": {},
   "outputs": [],
   "source": [
    "\n",
    "\n"
   ]
  },
  {
   "cell_type": "code",
   "execution_count": null,
   "metadata": {},
   "outputs": [],
   "source": [
    "month = input('''\\tThe months of January to December.\\n\n",
    "In which month of the year will you return to California?\\n''')\n",
    "day = input('''\\tWhich day of the week are you traveling back to California\\n\n",
    "from Sunday to Saturday?\\n''')\n",
    "time = input('''\\tWhat time of day are you traveling back to California\\n\n",
    "between 12:00 AM and 11:00 PM?\\n\n",
    "Note: that the actual time format is HH:00 AM or HH:00 PM.\\n\n",
    "It is not 12:00 a.m., nor is midnight, nor is noon,\\n\n",
    "nor is 12:01 a.m., nor is 12:30 p.m.\\n''')"
   ]
  },
  {
   "cell_type": "code",
   "execution_count": null,
   "metadata": {},
   "outputs": [],
   "source": [
    "data = pd.read_csv(\"bwt.csv\").fillna(0)\n",
    "\n"
   ]
  },
  {
   "cell_type": "code",
   "execution_count": null,
   "metadata": {},
   "outputs": [],
   "source": [
    "df = data[(data['Month'] == month) & (data['Time'] == time)]\n",
    "\n",
    "df = df[[\"Port_Name\",\"Month\",\"Time\", day]]"
   ]
  },
  {
   "cell_type": "code",
   "execution_count": null,
   "metadata": {},
   "outputs": [],
   "source": [
    "# check to ensure that what you read in is a pandas dataframe\n",
    "assert(isinstance(data, pd.DataFrame))\n",
    "assert(data.shape == (1728, 14))\n",
    "assert(data.columns)==[]"
   ]
  },
  {
   "cell_type": "code",
   "execution_count": null,
   "metadata": {},
   "outputs": [],
   "source": [
    "df = df.sort_values(day)\n",
    "df.head(3)"
   ]
  },
  {
   "cell_type": "code",
   "execution_count": null,
   "metadata": {},
   "outputs": [],
   "source": [
    "first = pc.top_port(df.iloc[0]['Port_Name'], df.iloc[0][day], '1st')\n",
    "second = pc.top_port(df.iloc[1]['Port_Name'], df.iloc[1][day], '2nd')\n",
    "third = pc.top_port(df.iloc[2]['Port_Name'], df.iloc[2][day], '3rd')"
   ]
  },
  {
   "cell_type": "code",
   "execution_count": null,
   "metadata": {},
   "outputs": [],
   "source": [
    "print('Based on historical statistics from the United States Customs and Border Protection (CBP).')\n",
    "print('The entrance port with the shortest wait time is the port of entry:\\n')\n",
    "first.print_class()\n",
    "print(' \\n')\n",
    "print('If this port of entry is too far away from your current location,')\n",
    "print('the port with the second shortest wait time is the next closest port of entry:\\n')\n",
    "second.print_class()\n",
    "print(' \\n')\n",
    "print(\"You might perhaps try this port of entry if it's still too far away:'\\t\")\n",
    "third.print_class()\n",
    "print(' \\n')\n",
    "print('Welcome to California, and have a great time!')\n",
    "fig,axs = plt.subplots(1,figsize=(10,4))\n",
    "sns.set_context(\"poster\")\n",
    "sns.set_style(\"whitegrid\")\n",
    "sns.barplot(x=[port.port_name for port in [first,second,third]],y=[port.wait_time for port in [first,second,third]],ax=axs)\n",
    "plt.ylabel(\"Hours\")\n",
    "plt.xlabel(\"Port\")\n",
    "plt.title(\"3 Shortest Wait Times\");"
   ]
  }
 ],
 "metadata": {
  "kernelspec": {
   "display_name": "Python 3",
   "language": "python",
   "name": "python3"
  },
  "language_info": {
   "codemirror_mode": {
    "name": "ipython",
    "version": 3
   },
   "file_extension": ".py",
   "mimetype": "text/x-python",
   "name": "python",
   "nbconvert_exporter": "python",
   "pygments_lexer": "ipython3",
   "version": "3.8.8"
  }
 },
 "nbformat": 4,
 "nbformat_minor": 4
}
